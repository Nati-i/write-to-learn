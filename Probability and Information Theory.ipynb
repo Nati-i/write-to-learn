{
 "cells": [
  {
   "cell_type": "markdown",
   "metadata": {},
   "source": [
    "# Probability and Information Theory\n",
    "\n",
    "### Probability vs Information Theory\n",
    "\n",
    "<p>Probability allows us to make statements that have elements of uncertainity. Information theory, on the other hand, helps us quantify the amount of uncertaininity within such statement. In this case, you can think of the word statement as a distribution. Under normal circumstances, a programmer can safely assume that a CPU will flawlessly execute instructions without any issue regarding determinism. In machine learning, however, the programmer has to deal with many elements of uncertain quantities and sometimes nondeterministic (stochastic) quantities. <p>\n",
    "    \n",
    "> Nearly all activities require some ability to reason in the presence of uncertainty. In fact, beyond mathematical statements that are true by definition, it is difficult to think of any proposition that is absolutely true or any event that is absolutely guaranteed to occur.\n",
    ">\n",
    "> [Goodfellow-et-al-2016, Deep Learning](https://www.deeplearningbook.org/)\n",
    "    \n",
    "Here are three things that could raise uncertainity:\n",
    "    1. sd\n",
    "    2/ d"
   ]
  },
  {
   "cell_type": "code",
   "execution_count": null,
   "metadata": {},
   "outputs": [],
   "source": []
  }
 ],
 "metadata": {
  "kernelspec": {
   "display_name": "Python 3",
   "language": "python",
   "name": "python3"
  },
  "language_info": {
   "codemirror_mode": {
    "name": "ipython",
    "version": 3
   },
   "file_extension": ".py",
   "mimetype": "text/x-python",
   "name": "python",
   "nbconvert_exporter": "python",
   "pygments_lexer": "ipython3",
   "version": "3.7.6"
  }
 },
 "nbformat": 4,
 "nbformat_minor": 4
}
