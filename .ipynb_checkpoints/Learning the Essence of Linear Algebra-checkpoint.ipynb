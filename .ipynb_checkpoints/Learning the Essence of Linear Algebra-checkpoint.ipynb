{
 "cells": [
  {
   "cell_type": "markdown",
   "metadata": {},
   "source": [
    "# Learning the Essence of Linear Algebra\n",
    "\n",
    "Linear algebra is a branch of mathematics that has applications in almost all scientific domains. But what is it exactly? Linear algebra is the study of linear maps on finite-dimensional vector space, this definition is \"impeccably correct but not at all helpful.\" So what is really linear algebra? \n",
    "\n",
    "Let's define the two words first: \n",
    "    - Linear: of the first degree with respect to one or more variables. Something that follows an expected sequence that is graphically represented with a stright line. The word comes from latin and it means \"pertaining or resembling a line\"\n",
    "    - Algebra: a study of mathematical symbols and rules for manipulating these symbols. Originates from the arabic word al-jabir meaning \"reunion of broken parts.\" \n",
    " \n",
    "So linear algebra is the study of objects that represent expected sequences. The objects that we will use are the following: scalars, vectors, matrices and tensors:\n",
    "    - Scalars: a quantity without direction but only magnitude (something you can use to scale something else)\n",
    "    - Vectors: a quantity that has a magnitude as well as direction, something you can use to determine the position of one point relative to another. An ordered array of numbers, list of values. The python package numpy can be used to create vectors (which are called arrays in numpy)\n",
    "    - Matrices: a 2D array of numbers. A table, or list of lists: [ [list1], [list2] ]\n",
    "    - Tensors: an array of numbers arranged on a regular grid with a variable number of axes. A table of tables, a list of lists of lists: [ [ [], [] ], [ [], [] ] ]"
   ]
  },
  {
   "cell_type": "code",
   "execution_count": 1,
   "metadata": {},
   "outputs": [
    {
     "name": "stdout",
     "output_type": "stream",
     "text": [
      "/bin/sh: -c: line 0: syntax error near unexpected token `theme=’monokai’,'\r\n",
      "/bin/sh: -c: line 0: `jtplot.style(theme=’monokai’, context=’notebook’, ticks=True, grid=False)'\r\n"
     ]
    }
   ],
   "source": [
    "import numpy as np\n",
    "import matplotlib.pyplot as plt\n",
    "from jupyterthemes import jtplot\n",
    "!jt -t monokai\n",
    "!jt -t monokai -f fira -fs 13 -nf ptsans -nfs 11 -N -kl -cursw 5 -cursc r -cellw 95% -T\n",
    "\n",
    "!jtplot.style(theme=’monokai’, context=’notebook’, ticks=True, grid=False)"
   ]
  },
  {
   "cell_type": "code",
   "execution_count": 2,
   "metadata": {},
   "outputs": [
    {
     "data": {
      "image/png": "[encoded data removed]",
      "text/plain": [
       "<Figure size 432x288 with 1 Axes>"
      ]
     },
     "metadata": {
      "needs_background": "light"
     },
     "output_type": "display_data"
    }
   ],
   "source": [
    "V = np.array([[1,1],\n",
    "              [-2,2],\n",
    "              [4,-7]])\n",
    "# V[:,0] -> Column 0; V[:,1] Column 1\n",
    "origin = [0], [0] # origin point\n",
    "\n",
    "plt.quiver(*origin, V[:,0], V[:,1], color=['r','b','g'], scale=21)\n",
    "plt.show()"
   ]
  },
  {
   "cell_type": "markdown",
   "metadata": {},
   "source": [
    "## Properties of Linear Objects\n",
    "\n",
    "Now that we have defined a handful of linear objects, we can start thinking of what sorts of properties susch objects have.\n",
    "\n",
    "### Basis Vectors\n",
    "\n",
    "Suppose you have a two dimensional vector of length 1 represented by  ${{\\hat {\\imath }}}$  on one direction and  ${{\\hat {\\jmath }}}$  on the other; thus representing a vector as  ${{\\hat {\\imath }}}$ +  ${{\\hat {\\jmath }}}$. These two letters can be thought of as the grids x and y on a 2D coordinate system, thus representing a way to get to a point on the xy grid. \n",
    "\n",
    "\n",
    "### Linear Combinations\n",
    "\n",
    "If you take the basis vectors ${{\\hat {\\imath }}}$ and ${{\\hat {\\jmath }}}$ and scale them on each axis, you will be able to land on any point on the grid. This way of scaling basis vectors in order to reach a point is called a linear combination.\n",
    "\n",
    "### Span\n",
    "\n",
    "The span of of a vector is defined as the space the vector is able to reach as a result of scaling. If you have a vector represented by v and w, the span of this vector is then the entire 2D grid since you can reach any point on the grid by linearly combining v and w.\n",
    "    - The span of a 1D vector is an infinite line\n",
    "    - The span of a 2D vector is an infinite plane\n",
    "    - The span of a 3D vector is an infinite 3D space $R^3$\n",
    "\n",
    "Properties such as this is what allows linear algebra to represent attributes of reality, making it so useful.\n",
    "\n",
    "    - Formally, the basis of a vector space (1D, 2D, etc.) is a set of linearly independent vectors that span the full space\n",
    "    - i and j are the basis of the 2D vector space\n",
    "    - i, j and k are the basis for the 3D vector space etc.\n",
    "    \n",
    "\n",
    "### Linear Independence\n",
    "\n",
    "If two vectors are linearly inependent, it means that they represent independent directions in the vector space. Here are different ways of thinking about this:\n",
    "    - If you have a vector, vector 1, pointing in direction 1, then vector 2 would be independent of vector one if and only if it points in a different direction\n",
    "    - Independent columns of of matrix A means the only solution to Av = 0 is v = 0\n",
    "    - If I have independent columns in my matrix then the null space of the matrix is just the zero vector\n",
    "\n",
    "### Basis for Subspace\n",
    "    - Independent vectors that span the space\n",
    "    - The number of dimension is the number of basis vectors we need\n",
    "    - Dimension: number of basis vectors for the subspace\n",
    "        - 1D dimension has exactly 1 basis vector\n",
    "        - 2D dimension has exactly 2 basis vectors\n",
    "    - Every basis has the same number and that number is the dimension\n",
    "    - Take 3D space, and a subspace of a plane, the plan can only have 2 independent vectors\n",
    "        - Every basis for this plane contains only and exactly 2 which is why the dimension of the plane is 2\n",
    "        \n",
    "### Useful Things to R\n",
    "        \n",
    "https://www.youtube.com/watch?v=eeMJg4uI7o0\n",
    "https://hadrienj.github.io/posts/Deep-Learning-Book-Series-2.4-Linear-Dependence-and-Span/"
   ]
  },
  {
   "cell_type": "code",
   "execution_count": 6,
   "metadata": {},
   "outputs": [
    {
     "name": "stdout",
     "output_type": "stream",
     "text": [
      "[[0 1 1 0]]\n"
     ]
    }
   ],
   "source": [
    "matrix = np.array(\n",
    "    [\n",
    "        [0, 1 ,0 ,0],\n",
    "        [0, 0, 1, 0],\n",
    "        [0, 1, 1, 0],\n",
    "        [1, 0, 0, 1]\n",
    "    ])\n",
    "\n",
    "lambdas, _ =  np.linalg.eig(matrix.T)\n",
    "# The linearly dependent row vectors \n",
    "print(matrix[lambdas == 0,:])"
   ]
  },
  {
   "cell_type": "code",
   "execution_count": 8,
   "metadata": {},
   "outputs": [
    {
     "data": {
      "text/plain": [
       "array([ 1.61803399, -0.61803399,  0.        ,  1.        ])"
      ]
     },
     "execution_count": 8,
     "metadata": {},
     "output_type": "execute_result"
    }
   ],
   "source": [
    "lambdas"
   ]
  },
  {
   "cell_type": "markdown",
   "metadata": {},
   "source": [
    "## The Algebra of Linear Objects\n",
    "\n",
    "Since linear algebra is the study of mathematical operations on linear objects, we will now investigate such operations and what they mean. These operations are also called linear transformations, since they are able to transform the object from one form to another."
   ]
  },
  {
   "cell_type": "markdown",
   "metadata": {},
   "source": [
    "### Transpose\n",
    "\n"
   ]
  }
 ],
 "metadata": {
  "kernelspec": {
   "display_name": "Python 3",
   "language": "python",
   "name": "python3"
  },
  "language_info": {
   "codemirror_mode": {
    "name": "ipython",
    "version": 3
   },
   "file_extension": ".py",
   "mimetype": "text/x-python",
   "name": "python",
   "nbconvert_exporter": "python",
   "pygments_lexer": "ipython3",
   "version": "3.7.6"
  }
 },
 "nbformat": 4,
 "nbformat_minor": 4
}
